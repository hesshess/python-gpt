{
 "cells": [
  {
   "cell_type": "code",
   "execution_count": null,
   "metadata": {},
   "outputs": [],
   "source": [
    "# ------>not private\n",
    "# from langchain.llms import HuggingFaceHub\n",
    "# from langchain.prompts import PromptTemplate\n",
    "\n",
    "# prompt = PromptTemplate.from_template(\"[INST]What is the meaning of {word}[/INST]\")\n",
    "\n",
    "# llm = HuggingFaceHub(\n",
    "#     repo_id=\"mistralai/Mistral-7B-Instruct-v0.1\",\n",
    "#     model_kwargs={\n",
    "#         \"max_new_tokens\": 250,\n",
    "#     },\n",
    "# )\n",
    "\n",
    "\n",
    "# ------>private\n",
    "# from langchain.llms.huggingface_pipeline import HuggingFacePipeline\n",
    "# from langchain.prompts import PromptTemplate\n",
    "\n",
    "# prompt = PromptTemplate.from_template(\"A {word} is a\")\n",
    "\n",
    "# llm = HuggingFacePipeline.from_model_id(\n",
    "#     model_id=\"gpt2\",\n",
    "#     task=\"text-generation\",\n",
    "#     pipeline_kwargs={\"max_new_tokens\": 150},\n",
    "# )\n",
    "\n",
    "# chain = prompt | llm\n",
    "\n",
    "# chain.invoke({\"word\": \"tomato\"})\n",
    "\n",
    "# ----->local \n",
    "# from langchain.llms.gpt4all import GPT4All\n",
    "# from langchain.prompts import PromptTemplate\n",
    "\n",
    "# prompt = PromptTemplate.from_template(\n",
    "#     \"You are a helpful assistant that defines words. Define this word: {word}.\"\n",
    "# )\n",
    "\n",
    "# llm = GPT4All(\n",
    "#     model=\"./files/falcon.bin\",  # https://gpt4all.io/index.html download file path\n",
    "# )\n",
    "\n",
    "\n",
    "\n",
    "# chain = prompt | llm\n",
    "\n",
    "# chain.invoke({\"word\": \"tomato\"})"
   ]
  }
 ],
 "metadata": {
  "kernelspec": {
   "display_name": "env",
   "language": "python",
   "name": "python3"
  },
  "language_info": {
   "name": "python",
   "version": "3.11.6"
  }
 },
 "nbformat": 4,
 "nbformat_minor": 2
}
