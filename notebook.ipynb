{
 "cells": [
  {
   "cell_type": "code",
   "execution_count": 1,
   "metadata": {},
   "outputs": [],
   "source": [
    "from langchain.chat_models import ChatOpenAI\n",
    "from langchain.prompts import ChatPromptTemplate\n",
    "from langchain.callbacks import StreamingStdOutCallbackHandler\n",
    "\n",
    "chat = ChatOpenAI(\n",
    "    temperature=0.1,\n",
    "    streaming=True,\n",
    "    callbacks=[StreamingStdOutCallbackHandler(),]\n",
    "    )"
   ]
  },
  {
   "cell_type": "code",
   "execution_count": 4,
   "metadata": {},
   "outputs": [
    {
     "name": "stdout",
     "output_type": "stream",
     "text": [
      "Indentation key,\n",
      "Pythonic simplicity,\n",
      "Guido's legacy. \n",
      "\n",
      "Dynamic typing,\n",
      "Elegant and readable,\n",
      "Python's charm shining.\n",
      "\n",
      "Modules and packages,\n",
      "Versatile and powerful,\n",
      "Python's reach expands.These are three haikus that celebrate the programming language Python. The first haiku highlights Python's simplicity and the influence of its creator, Guido van Rossum. The second haiku praises Python's dynamic typing and readability. The third haiku emphasizes Python's versatility and power through its modules and packages. Overall, these haikus capture the essence and appeal of Python as a programming language."
     ]
    },
    {
     "data": {
      "text/plain": [
       "AIMessageChunk(content=\"These are three haikus that celebrate the programming language Python. The first haiku highlights Python's simplicity and the influence of its creator, Guido van Rossum. The second haiku praises Python's dynamic typing and readability. The third haiku emphasizes Python's versatility and power through its modules and packages. Overall, these haikus capture the essence and appeal of Python as a programming language.\")"
      ]
     },
     "execution_count": 4,
     "metadata": {},
     "output_type": "execute_result"
    }
   ],
   "source": [
    "haiku_writer_prompt = ChatPromptTemplate.from_messages([\n",
    "    ('system', \"You are specialized in writing Haikus about programming languages.\"),\n",
    "    ('human', \"I want to Haikus about {programming_lang}\"),\n",
    "])\n",
    "\n",
    "haiku_writer_chain = haiku_writer_prompt | chat\n",
    "\n",
    "haiku_docent_prompt = ChatPromptTemplate.from_messages([\n",
    "    ('system', \"You are specialized in explaining Haikus. If you don't know the meaning, just say you don't know how to explain it.\"),\n",
    "    ('human', \"{haiku}\")\n",
    "])\n",
    "\n",
    "haiku_docent_chain = haiku_docent_prompt | chat\n",
    "\n",
    "\n",
    "\n",
    "final_chain = {'haiku': haiku_writer_chain } | haiku_docent_chain\n",
    "\n",
    "final_chain.invoke({'programming_lang': 'python'})\n",
    "\n",
    "\n",
    "\n"
   ]
  }
 ],
 "metadata": {
  "kernelspec": {
   "display_name": "env",
   "language": "python",
   "name": "python3"
  },
  "language_info": {
   "codemirror_mode": {
    "name": "ipython",
    "version": 3
   },
   "file_extension": ".py",
   "mimetype": "text/x-python",
   "name": "python",
   "nbconvert_exporter": "python",
   "pygments_lexer": "ipython3",
   "version": "3.11.6"
  }
 },
 "nbformat": 4,
 "nbformat_minor": 2
}
