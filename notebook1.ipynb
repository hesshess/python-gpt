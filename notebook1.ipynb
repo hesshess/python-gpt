{
 "cells": [
  {
   "cell_type": "code",
   "execution_count": 9,
   "metadata": {},
   "outputs": [
    {
     "name": "stderr",
     "output_type": "stream",
     "text": [
      "/Users/hesswang/Documents/projects/fullstack-gpt/env/lib/python3.11/site-packages/langchain/llms/openai.py:216: UserWarning: You are trying to use a chat model. This way of initializing it is no longer supported. Instead, please use: `from langchain.chat_models import ChatOpenAI`\n",
      "  warnings.warn(\n",
      "/Users/hesswang/Documents/projects/fullstack-gpt/env/lib/python3.11/site-packages/langchain/llms/openai.py:811: UserWarning: You are trying to use a chat model. This way of initializing it is no longer supported. Instead, please use: `from langchain.chat_models import ChatOpenAI`\n",
      "  warnings.warn(\n"
     ]
    }
   ],
   "source": [
    "from langchain.chat_models import ChatOpenAI\n",
    "from langchain.llms.openai import OpenAI\n",
    "from langchain.prompts import ChatPromptTemplate\n",
    "from langchain.callbacks import StreamingStdOutCallbackHandler\n",
    "\n",
    "chat = ChatOpenAI(\n",
    "    temperature=0.1,\n",
    "    streaming=True,\n",
    "    callbacks=[StreamingStdOutCallbackHandler(),]\n",
    "    )\n",
    "\n",
    "llm = OpenAI(model_name=\"gpt-3.5-turbo\",\n",
    "             temperature=0.1,streaming=True,\n",
    "    callbacks=[StreamingStdOutCallbackHandler(),])"
   ]
  },
  {
   "cell_type": "code",
   "execution_count": 10,
   "metadata": {},
   "outputs": [
    {
     "name": "stdout",
     "output_type": "stream",
     "text": [
      "Python, sleek and clean\n",
      "Indentation is the key\n",
      "Code flows like a stream\n",
      "\n",
      "Dynamic and strong\n",
      "Versatile in its design\n",
      "Python sings its song\n",
      "\n",
      "From web apps to AI\n",
      "Python's power never dies\n",
      "A language so slyThese haikus describe the programming language Python. The first one highlights the clean and sleek nature of Python code, emphasizing the importance of proper indentation for smooth code flow. The second haiku praises Python for its dynamic and versatile design, likening it to a song. The final haiku acknowledges Python's enduring popularity and usefulness in various applications, from web development to artificial intelligence."
     ]
    },
    {
     "data": {
      "text/plain": [
       "\"These haikus describe the programming language Python. The first one highlights the clean and sleek nature of Python code, emphasizing the importance of proper indentation for smooth code flow. The second haiku praises Python for its dynamic and versatile design, likening it to a song. The final haiku acknowledges Python's enduring popularity and usefulness in various applications, from web development to artificial intelligence.\""
      ]
     },
     "execution_count": 10,
     "metadata": {},
     "output_type": "execute_result"
    }
   ],
   "source": [
    "haiku_writer_prompt = ChatPromptTemplate.from_messages([\n",
    "    ('system', \"You are specialized in writing Haikus about programming languages.\"),\n",
    "    ('human', \"I want to Haikus about {programming_lang}\"),\n",
    "])\n",
    "\n",
    "haiku_writer_chain = haiku_writer_prompt | llm\n",
    "\n",
    "haiku_docent_prompt = ChatPromptTemplate.from_messages([\n",
    "    ('system', \"You are specialized in explaining Haikus. If you don't know the meaning, just say you don't know how to explain it.\"),\n",
    "    ('human', \"{haiku}\")\n",
    "])\n",
    "\n",
    "haiku_docent_chain = haiku_docent_prompt | llm\n",
    "\n",
    "\n",
    "\n",
    "final_chain = {'haiku': haiku_writer_chain } | haiku_docent_chain\n",
    "\n",
    "final_chain.invoke({'programming_lang': 'python'})\n",
    "\n",
    "\n",
    "\n"
   ]
  },
  {
   "cell_type": "code",
   "execution_count": null,
   "metadata": {},
   "outputs": [],
   "source": []
  }
 ],
 "metadata": {
  "kernelspec": {
   "display_name": "env",
   "language": "python",
   "name": "python3"
  },
  "language_info": {
   "codemirror_mode": {
    "name": "ipython",
    "version": 3
   },
   "file_extension": ".py",
   "mimetype": "text/x-python",
   "name": "python",
   "nbconvert_exporter": "python",
   "pygments_lexer": "ipython3",
   "version": "3.11.6"
  }
 },
 "nbformat": 4,
 "nbformat_minor": 2
}
