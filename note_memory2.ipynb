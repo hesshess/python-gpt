{
 "cells": [
  {
   "cell_type": "code",
   "execution_count": 11,
   "metadata": {},
   "outputs": [
    {
     "name": "stdout",
     "output_type": "stream",
     "text": [
      "content='🚀🌌🌿'\n"
     ]
    }
   ],
   "source": [
    "from langchain.memory import ConversationSummaryBufferMemory\n",
    "from langchain.prompts.few_shot import FewShotChatMessagePromptTemplate\n",
    "from langchain.chat_models import ChatOpenAI\n",
    "from langchain.schema.runnable import RunnablePassthrough\n",
    "from langchain.prompts import ChatPromptTemplate, MessagesPlaceholder\n",
    "\n",
    "llm = ChatOpenAI(temperature=0.1)\n",
    "\n",
    "memory = ConversationSummaryBufferMemory(\n",
    "    llm=llm,\n",
    "    max_token_limit=100,\n",
    "    return_messages=True,\n",
    ")\n",
    "\n",
    "examples = [\n",
    "    {\n",
    "        \"movie\" : \"Top Gun\",\n",
    "        \"answer\" : \"\"\"🛩️👨‍✈️🔥 \"\"\",\n",
    "    },\n",
    "    {\n",
    "        \"movie\" : \"The Godfather\",\n",
    "        \"answer\" : \"\"\"👨‍👨‍👦🔫🍝\"\"\"\n",
    "    }\n",
    "]\n",
    "\n",
    "prompt = ChatPromptTemplate.from_messages(\n",
    "    [\n",
    "       ( 'system', \"You can explain the movie with only tree emojis\"), MessagesPlaceholder(variable_name='history'),\n",
    "       (\"human\", \"{movie}\"),\n",
    "]\n",
    ")\n",
    "\n",
    "# prompt2 = FewShotChatMessagePromptTemplate(\n",
    "#     example_prompt=prompt,\n",
    "#     examples=examples,\n",
    "# )\n",
    "\n",
    "def load_memory(_):\n",
    "    return memory.load_memory_variables({})['history']\n",
    "\n",
    "chain = RunnablePassthrough.assign(history=load_memory) | prompt | llm\n",
    "\n",
    "def invoke_chain(movie):\n",
    "    result = chain.invoke({'movie': movie})\n",
    "    memory.save_context(\n",
    "        {'input': movie},\n",
    "        {'output': result.content},\n",
    "    )\n",
    "    print(result)\n",
    "    \n",
    "invoke_chain(\"interstellar\")\n"
   ]
  },
  {
   "cell_type": "code",
   "execution_count": 12,
   "metadata": {},
   "outputs": [
    {
     "name": "stdout",
     "output_type": "stream",
     "text": [
      "content='🏜️🪐🔮'\n"
     ]
    }
   ],
   "source": [
    "invoke_chain(\"Dune\")"
   ]
  },
  {
   "cell_type": "code",
   "execution_count": 13,
   "metadata": {},
   "outputs": [
    {
     "name": "stdout",
     "output_type": "stream",
     "text": [
      "content='Interstellar'\n"
     ]
    }
   ],
   "source": [
    "invoke_chain(\"What was the title of the mvie that i asked right before Dune?\")"
   ]
  }
 ],
 "metadata": {
  "kernelspec": {
   "display_name": "env",
   "language": "python",
   "name": "python3"
  },
  "language_info": {
   "codemirror_mode": {
    "name": "ipython",
    "version": 3
   },
   "file_extension": ".py",
   "mimetype": "text/x-python",
   "name": "python",
   "nbconvert_exporter": "python",
   "pygments_lexer": "ipython3",
   "version": "3.11.6"
  }
 },
 "nbformat": 4,
 "nbformat_minor": 2
}
