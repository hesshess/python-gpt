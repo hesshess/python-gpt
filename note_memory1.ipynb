{
 "cells": [
  {
   "cell_type": "code",
   "execution_count": 22,
   "metadata": {},
   "outputs": [
    {
     "name": "stdout",
     "output_type": "stream",
     "text": [
      "\n",
      "\n",
      "\u001b[1m> Entering new LLMChain chain...\u001b[0m\n",
      "Prompt after formatting:\n",
      "\u001b[32;1m\u001b[1;3mSystem: you can explain the movie with three emojis but also can talk in english\n",
      "Human: Top Gun\n",
      "AI: 🛩️👨‍✈️🔥 \n",
      "Human: The Godfather\n",
      "AI: 👨‍👨‍👦🔫🍝\n",
      "Human: Interstellar\u001b[0m\n",
      "\n",
      "\u001b[1m> Finished chain.\u001b[0m\n"
     ]
    },
    {
     "data": {
      "text/plain": [
       "'🚀⏳🌌'"
      ]
     },
     "execution_count": 22,
     "metadata": {},
     "output_type": "execute_result"
    }
   ],
   "source": [
    "from langchain.chat_models import ChatOpenAI\n",
    "from langchain.prompts import PromptTemplate, ChatPromptTemplate, MessagesPlaceholder\n",
    "from langchain.prompts.few_shot import FewShotPromptTemplate, FewShotChatMessagePromptTemplate\n",
    "from langchain.memory import ConversationSummaryBufferMemory\n",
    "from langchain.chains import LLMChain\n",
    "\n",
    "llm = ChatOpenAI(\n",
    "    temperature = 0.1,\n",
    ")\n",
    "examples = [\n",
    "    {\n",
    "        \"movie\" : \"Top Gun\",\n",
    "        \"answer\" : \"\"\"🛩️👨‍✈️🔥 \"\"\",\n",
    "    },\n",
    "    {\n",
    "        \"movie\" : \"The Godfather\",\n",
    "        \"answer\" : \"\"\"👨‍👨‍👦🔫🍝\"\"\"\n",
    "    }\n",
    "]\n",
    "\n",
    "memory = ConversationSummaryBufferMemory(llm = llm, max_token_limit=100, memory_key='chat_history', return_messages=True)\n",
    "\n",
    "example_prompt2 = ChatPromptTemplate.from_messages([\n",
    "    (\"human\", \"{movie}\"),\n",
    "    (\"ai\", \"{answer}\")\n",
    "])\n",
    "\n",
    "prompt2 = FewShotChatMessagePromptTemplate(\n",
    "    example_prompt=example_prompt2,\n",
    "    examples=examples,\n",
    ")\n",
    "\n",
    "final_prompt = ChatPromptTemplate.from_messages([\n",
    "    (\"system\", \"you can explain the movie with three emojis but also can talk in english\"),\n",
    "    prompt2,\n",
    "    MessagesPlaceholder(variable_name='chat_history'),\n",
    "    ('human', \"{movie}\")\n",
    "])\n",
    "\n",
    "\n",
    "chain = LLMChain(llm=llm,memory=memory, prompt=final_prompt, verbose=True)\n",
    "chain.predict(movie=\"Interstellar\")"
   ]
  },
  {
   "cell_type": "code",
   "execution_count": 23,
   "metadata": {},
   "outputs": [
    {
     "name": "stdout",
     "output_type": "stream",
     "text": [
      "\n",
      "\n",
      "\u001b[1m> Entering new LLMChain chain...\u001b[0m\n",
      "Prompt after formatting:\n",
      "\u001b[32;1m\u001b[1;3mSystem: you can explain the movie with three emojis but also can talk in english\n",
      "Human: Top Gun\n",
      "AI: 🛩️👨‍✈️🔥 \n",
      "Human: The Godfather\n",
      "AI: 👨‍👨‍👦🔫🍝\n",
      "Human: Interstellar\n",
      "AI: 🚀⏳🌌\n",
      "Human: Wonka\u001b[0m\n",
      "\n",
      "\u001b[1m> Finished chain.\u001b[0m\n"
     ]
    },
    {
     "data": {
      "text/plain": [
       "'🍫🍭🎩'"
      ]
     },
     "execution_count": 23,
     "metadata": {},
     "output_type": "execute_result"
    }
   ],
   "source": [
    "chain.predict(movie=\"Wonka\")"
   ]
  },
  {
   "cell_type": "code",
   "execution_count": 24,
   "metadata": {},
   "outputs": [
    {
     "name": "stdout",
     "output_type": "stream",
     "text": [
      "\n",
      "\n",
      "\u001b[1m> Entering new LLMChain chain...\u001b[0m\n",
      "Prompt after formatting:\n",
      "\u001b[32;1m\u001b[1;3mSystem: you can explain the movie with three emojis but also can talk in english\n",
      "Human: Top Gun\n",
      "AI: 🛩️👨‍✈️🔥 \n",
      "Human: The Godfather\n",
      "AI: 👨‍👨‍👦🔫🍝\n",
      "Human: Interstellar\n",
      "AI: 🚀⏳🌌\n",
      "Human: Wonka\n",
      "AI: 🍫🍭🎩\n",
      "Human: what is title of the movie i asked you right before, answer with english title of the movie\u001b[0m\n",
      "\n",
      "\u001b[1m> Finished chain.\u001b[0m\n"
     ]
    },
    {
     "data": {
      "text/plain": [
       "'Interstellar'"
      ]
     },
     "execution_count": 24,
     "metadata": {},
     "output_type": "execute_result"
    }
   ],
   "source": [
    "chain.predict(movie=\"what is title of the movie i asked you right before, answer with english title of the movie\")"
   ]
  }
 ],
 "metadata": {
  "kernelspec": {
   "display_name": "env",
   "language": "python",
   "name": "python3"
  },
  "language_info": {
   "codemirror_mode": {
    "name": "ipython",
    "version": 3
   },
   "file_extension": ".py",
   "mimetype": "text/x-python",
   "name": "python",
   "nbconvert_exporter": "python",
   "pygments_lexer": "ipython3",
   "version": "3.11.6"
  }
 },
 "nbformat": 4,
 "nbformat_minor": 2
}
